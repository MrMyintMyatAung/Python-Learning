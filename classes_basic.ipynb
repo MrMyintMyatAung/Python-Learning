{
 "cells": [
  {
   "cell_type": "code",
   "execution_count": null,
   "id": "1746d91e",
   "metadata": {},
   "outputs": [
    {
     "name": "stdout",
     "output_type": "stream",
     "text": [
      "My dog's name is Willie.\n",
      "My dog is 6 years old.\n",
      "Willie is sitting!\n",
      "\n",
      "Your dog's name is Lucy.\n",
      "Your dog is 3 years old.\n",
      "Lucy is sitting!\n"
     ]
    }
   ],
   "source": [
    "\n",
    "\n",
    "\n",
    "class Dog:\n",
    "    \"\"\"The simple attempt to model a dog\"\"\"\n",
    "\n",
    "    def __init__(self,name,age):\n",
    "        \"\"\"Initialize name and age attributes\"\"\"\n",
    "        self.name = name\n",
    "        self.age = age\n",
    "\n",
    "    def bark(self):\n",
    "        \"\"\"Prints out a bark\"\"\"\n",
    "        print(\"Woof!\")\n",
    "\n",
    "    def sit(self):\n",
    "        \"\"\"Print out a sit command\"\"\"\n",
    "        print(f\"{self.name} is sitting!\")        \n",
    "\n",
    "\n",
    "    def roll_over(self):\n",
    "        \"\"\"Simulate rolling over in response to a command.\"\"\"\n",
    "        print(f\"{self.name} rolled over!\")\n",
    "\n",
    "my_dog = Dog('Willie', 6)\n",
    "your_dog = Dog('Lucy', 3)\n",
    "\n",
    "print(f\"My dog's name is {my_dog.name}.\")\n",
    "print(f\"My dog is {my_dog.age} years old.\")\n",
    "my_dog.sit()\n",
    "\n",
    "print(f\"\\nYour dog's name is {your_dog.name}.\")\n",
    "print(f\"Your dog is {your_dog.age} years old.\")\n",
    "your_dog.sit()\n"
   ]
  },
  {
   "cell_type": "code",
   "execution_count": null,
   "id": "dad7ea76",
   "metadata": {},
   "outputs": [
    {
     "name": "stdout",
     "output_type": "stream",
     "text": [
      "2024 Audi A4 Red\n",
      "This car has 20000 miles on it.\n"
     ]
    }
   ],
   "source": [
    "class Car:\n",
    "    \"\"\" This coed is desingned to create a car object with attributes and methods \"\"\"\n",
    "    def __init__(self, brand, model, year, color):\n",
    "        \n",
    "        self.brand = brand\n",
    "        self.model = model\n",
    "        self.year = year\n",
    "        self.color = color\n",
    "        self.odometer_reading = 0\n",
    "\n",
    "    def display_details(self):\n",
    "        \"\"\" This method is used to display the car details \"\"\"\n",
    "        long_name = f\"{self.year} {self.brand} {self.model} {self.color}\"\n",
    "        return long_name.title()\n",
    "    \n",
    "    def read_odometer(self):\n",
    "        \"\"\"Print a statement showing the car's mileage.\"\"\"\n",
    "        print(f\"This car has {self.odometer_reading} miles on it.\")\n",
    "\n",
    "    def update_odometer(self,milage):\n",
    "        \"\"\"Allow updating the odometer reading directly.\n",
    "        Warnings: This will set the odometer reading to the given value\n",
    "        and do not change the existing value.\"\"\"\n",
    "\n",
    "        if milage >= self.odometer_reading:\n",
    "            self.odometer_reading = milage\n",
    "\n",
    "        else:\n",
    "            print(\"You can't roll back an odometer\")\n",
    "    \n",
    "my_new_car = Car('audi', 'a4', 2024, 'red')\n",
    "print(my_new_car.display_details())\n",
    "\n",
    "my_new_car.odometer_reading = 20000\n",
    "my_new_car.read_odometer()\n",
    "        \n",
    "\n",
    "\n",
    "        \n",
    "\n"
   ]
  },
  {
   "cell_type": "code",
   "execution_count": null,
   "id": "d2fdae6a",
   "metadata": {},
   "outputs": [],
   "source": []
  }
 ],
 "metadata": {
  "kernelspec": {
   "display_name": "not_pml",
   "language": "python",
   "name": "python3"
  },
  "language_info": {
   "codemirror_mode": {
    "name": "ipython",
    "version": 3
   },
   "file_extension": ".py",
   "mimetype": "text/x-python",
   "name": "python",
   "nbconvert_exporter": "python",
   "pygments_lexer": "ipython3",
   "version": "3.13.5"
  }
 },
 "nbformat": 4,
 "nbformat_minor": 5
}
