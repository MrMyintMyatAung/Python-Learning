{
 "cells": [
  {
   "cell_type": "code",
   "execution_count": 1,
   "id": "ce6afbe7",
   "metadata": {},
   "outputs": [
    {
     "name": "stdout",
     "output_type": "stream",
     "text": [
      "hellowslsl\n"
     ]
    }
   ],
   "source": [
    "print(\"hellowslsl\")"
   ]
  },
  {
   "cell_type": "code",
   "execution_count": null,
   "id": "e36db80e",
   "metadata": {},
   "outputs": [
    {
     "name": "stdout",
     "output_type": "stream",
     "text": [
      "Hello, World! My name is Myanmar\n"
     ]
    }
   ],
   "source": [
    "def greet(user_name):\n",
    "    print(f\"Hello, World! My name is {user_name.title()}\")\n",
    "\n",
    "greet(\"myanmar\")    "
   ]
  },
  {
   "cell_type": "code",
   "execution_count": null,
   "id": "790e6422",
   "metadata": {},
   "outputs": [],
   "source": [
    "\n"
   ]
  }
 ],
 "metadata": {
  "kernelspec": {
   "display_name": "not_pml",
   "language": "python",
   "name": "python3"
  },
  "language_info": {
   "codemirror_mode": {
    "name": "ipython",
    "version": 3
   },
   "file_extension": ".py",
   "mimetype": "text/x-python",
   "name": "python",
   "nbconvert_exporter": "python",
   "pygments_lexer": "ipython3",
   "version": "3.13.5"
  }
 },
 "nbformat": 4,
 "nbformat_minor": 5
}
